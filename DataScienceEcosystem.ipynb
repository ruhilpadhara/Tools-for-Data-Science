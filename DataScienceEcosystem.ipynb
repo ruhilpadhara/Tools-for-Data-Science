{
 "cells": [
  {
   "cell_type": "markdown",
   "id": "8f63b2e2",
   "metadata": {},
   "source": [
    "# Data Science Tools and Ecosystem"
   ]
  },
  {
   "cell_type": "markdown",
   "id": "b4533ad0",
   "metadata": {},
   "source": [
    "In this notebook, Data Science Tools and Ecosystem are summarized."
   ]
  },
  {
   "cell_type": "markdown",
   "id": "7957bd7f",
   "metadata": {},
   "source": [
    "<b>Objectives:</b>\n",
    "\n",
    "Some of the key takeaways from this course include:\n",
    "<ul>\n",
    "<li>Understanding what Data Science is and how it can be used to solve problems across different industries.</li>\n",
    "<li>Learning about the key skills and tools that are required to become a successful Data Scientist.</li>\n",
    "<li>Exploring popular languages for Data Science such as Python, R, and SQL, as well as commonly used libraries and development environments.</li>\n",
    "<li>Understanding the Data Science workflow and the different stages involved in a typical Data Science project.</li>\n",
    "<li>Learning about machine learning and its different types, as well as the different techniques used for model evaluation and selection.</li>\n",
    "<li>Python: Python is a popular programming language for Data Science because of its simplicity, readability, and large number of available libraries and frameworks for data manipulation, analysis, and visualization.</li>\n",
    "<li>R: R is another popular language for Data Science that has a strong focus on statistical analysis and visualization. It has a wide range of built-in statistical functions and packages, making it a powerful tool for data analysis.</li>\n",
    "<li>SQL: SQL (Structured Query Language) is a language used for managing and manipulating relational databases. It is commonly used for data analysis, especially when working with large amounts of structured data.</li>\n",
    "</ul>"
   ]
  },
  {
   "cell_type": "markdown",
   "id": "704245aa",
   "metadata": {},
   "source": [
    "Some of the popular languages that Data Scientists use are:\n",
    "\n",
    "```\n",
    "1.Python\n",
    "```\n",
    "```\n",
    "2.R\n",
    "```\n",
    "```\n",
    "3.SQL\n",
    "```"
   ]
  },
  {
   "cell_type": "markdown",
   "id": "c5946516",
   "metadata": {},
   "source": [
    "Some of the commonly used libraries used by Data Scientists include:\n",
    "```\n",
    "Pandas: A library for data manipulation and analysis in Python, providing tools for data cleaning, merging, and reshaping.\n",
    "```\n",
    "```\n",
    "NumPy: A library for numerical computing in Python, providing tools for mathematical operations on arrays and matrices.\n",
    "```\n",
    "```\n",
    "Scikit-learn: A machine learning library for Python, providing a range of supervised and unsupervised learning algorithms for classification, regression, clustering, and more.\n",
    "```\n",
    "```\n",
    "Matplotlib: A visualization library for Python, providing tools for creating a range of charts and plots.\n",
    "```\n",
    "```\n",
    "ggplot2: A visualization library for R, providing tools for creating high-quality statistical graphics with a declarative syntax.\n",
    "```"
   ]
  },
  {
   "cell_type": "markdown",
   "id": "db1dc79c",
   "metadata": {},
   "source": [
    "<table style=\"width:20%\">\n",
    "<tr>\n",
    "<th>Data Science Tools\n",
    "</th>\n",
    "</tr>\n",
    "\n",
    "<tr>\n",
    "<td>Jupyter Notebook</td>\n",
    "</tr>\n",
    "\n",
    "<tr>\n",
    "<td>Apache Spark</td>\n",
    "</tr>\n",
    "    \n",
    "<tr>\n",
    "<td>RStudio</td>\n",
    "</tr>\n",
    "</table>"
   ]
  },
  {
   "cell_type": "markdown",
   "id": "72e2004d",
   "metadata": {},
   "source": [
    "### Below are a few examples of evaluating arithmetic expressions in Python"
   ]
  },
  {
   "cell_type": "code",
   "execution_count": 7,
   "id": "bf4f1a47",
   "metadata": {},
   "outputs": [
    {
     "data": {
      "text/plain": [
       "17"
      ]
     },
     "execution_count": 7,
     "metadata": {},
     "output_type": "execute_result"
    }
   ],
   "source": [
    "(3*4)+5 #This a simple arithmetic expression to mutiply then add integers"
   ]
  },
  {
   "cell_type": "code",
   "execution_count": 9,
   "id": "7acde079",
   "metadata": {},
   "outputs": [
    {
     "data": {
      "text/plain": [
       "3.3333333333333335"
      ]
     },
     "execution_count": 9,
     "metadata": {},
     "output_type": "execute_result"
    }
   ],
   "source": [
    "200/60 #This will convert 200 minutes to hours by diving by 60"
   ]
  },
  {
   "cell_type": "markdown",
   "id": "b26cd84a",
   "metadata": {},
   "source": [
    "## Author\n",
    "\n",
    "Ruhil Padhara"
   ]
  },
  {
   "cell_type": "code",
   "execution_count": null,
   "id": "f09c22fc",
   "metadata": {},
   "outputs": [],
   "source": []
  }
 ],
 "metadata": {
  "celltoolbar": "Raw Cell Format",
  "kernelspec": {
   "display_name": "Python 3 (ipykernel)",
   "language": "python",
   "name": "python3"
  },
  "language_info": {
   "codemirror_mode": {
    "name": "ipython",
    "version": 3
   },
   "file_extension": ".py",
   "mimetype": "text/x-python",
   "name": "python",
   "nbconvert_exporter": "python",
   "pygments_lexer": "ipython3",
   "version": "3.9.7"
  }
 },
 "nbformat": 4,
 "nbformat_minor": 5
}
